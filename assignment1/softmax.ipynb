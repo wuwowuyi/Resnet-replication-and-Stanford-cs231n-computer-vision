{
 "cells": [
  {
   "cell_type": "code",
   "execution_count": null,
   "id": "d8aaae81",
   "metadata": {},
   "outputs": [],
   "source": [
    "# This mounts your Google Drive to the Colab VM.\n",
    "from google.colab import drive\n",
    "drive.mount('/content/drive')\n",
    "\n",
    "# TODO: Enter the foldername in your Drive where you have saved the unzipped\n",
    "# assignment folder, e.g. 'cs231n/assignments/assignment1/'\n",
    "FOLDERNAME = None\n",
    "assert FOLDERNAME is not None, \"[!] Enter the foldername.\"\n",
    "\n",
    "# Now that we've mounted your Drive, this ensures that\n",
    "# the Python interpreter of the Colab VM can load\n",
    "# python files from within it.\n",
    "import sys\n",
    "sys.path.append('/content/drive/My Drive/{}'.format(FOLDERNAME))\n",
    "\n",
    "# This downloads the CIFAR-10 dataset to your Drive\n",
    "# if it doesn't already exist.\n",
    "%cd /content/drive/My\\ Drive/$FOLDERNAME/cs231n/datasets/\n",
    "!bash get_datasets.sh\n",
    "%cd /content/drive/My\\ Drive/$FOLDERNAME"
   ]
  },
  {
   "cell_type": "markdown",
   "id": "e2c3cfa1",
   "metadata": {
    "tags": [
     "pdf-title"
    ]
   },
   "source": [
    "# Softmax exercise\n",
    "\n",
    "*Complete and hand in this completed worksheet (including its outputs and any supporting code outside of the worksheet) with your assignment submission. For more details see the [assignments page](http://vision.stanford.edu/teaching/cs231n/assignments.html) on the course website.*\n",
    "\n",
    "This exercise is analogous to the SVM exercise. You will:\n",
    "\n",
    "- implement a fully-vectorized **loss function** for the Softmax classifier\n",
    "- implement the fully-vectorized expression for its **analytic gradient**\n",
    "- **check your implementation** with numerical gradient\n",
    "- use a validation set to **tune the learning rate and regularization** strength\n",
    "- **optimize** the loss function with **SGD**\n",
    "- **visualize** the final learned weights\n"
   ]
  },
  {
   "cell_type": "code",
   "execution_count": 1,
   "id": "c55a72bf",
   "metadata": {
    "tags": [
     "pdf-ignore"
    ]
   },
   "outputs": [],
   "source": [
    "import random\n",
    "import numpy as np\n",
    "from cs231n.data_utils import load_CIFAR10\n",
    "import matplotlib.pyplot as plt\n",
    "\n",
    "%matplotlib inline\n",
    "plt.rcParams['figure.figsize'] = (10.0, 8.0) # set default size of plots\n",
    "plt.rcParams['image.interpolation'] = 'nearest'\n",
    "plt.rcParams['image.cmap'] = 'gray'\n",
    "\n",
    "# for auto-reloading extenrnal modules\n",
    "# see http://stackoverflow.com/questions/1907993/autoreload-of-modules-in-ipython\n",
    "%load_ext autoreload\n",
    "%autoreload 2"
   ]
  },
  {
   "cell_type": "code",
   "execution_count": 3,
   "id": "b99594ec",
   "metadata": {
    "tags": [
     "pdf-ignore"
    ]
   },
   "outputs": [
    {
     "name": "stdout",
     "output_type": "stream",
     "text": [
      "Train data shape:  (49000, 3073)\n",
      "Train labels shape:  (49000,)\n",
      "Validation data shape:  (1000, 3073)\n",
      "Validation labels shape:  (1000,)\n",
      "Test data shape:  (1000, 3073)\n",
      "Test labels shape:  (1000,)\n",
      "dev data shape:  (500, 3073)\n",
      "dev labels shape:  (500,)\n"
     ]
    }
   ],
   "source": [
    "def get_CIFAR10_data(num_training=49000, num_validation=1000, num_test=1000, num_dev=500):\n",
    "    \"\"\"\n",
    "    Load the CIFAR-10 dataset from disk and perform preprocessing to prepare\n",
    "    it for the linear classifier. These are the same steps as we used for the\n",
    "    SVM, but condensed to a single function.  \n",
    "    \"\"\"\n",
    "    # Load the raw CIFAR-10 data\n",
    "    cifar10_dir = 'cs231n/datasets/cifar-10-batches-py'\n",
    "    \n",
    "    # Cleaning up variables to prevent loading data multiple times (which may cause memory issue)\n",
    "    try:\n",
    "       del X_train, y_train\n",
    "       del X_test, y_test\n",
    "       print('Clear previously loaded data.')\n",
    "    except:\n",
    "       pass\n",
    "\n",
    "    X_train, y_train, X_test, y_test = load_CIFAR10(cifar10_dir)\n",
    "    \n",
    "    # subsample the data\n",
    "    mask = list(range(num_training, num_training + num_validation))\n",
    "    X_val = X_train[mask]\n",
    "    y_val = y_train[mask]\n",
    "    mask = list(range(num_training))\n",
    "    X_train = X_train[mask]\n",
    "    y_train = y_train[mask]\n",
    "    mask = list(range(num_test))\n",
    "    X_test = X_test[mask]\n",
    "    y_test = y_test[mask]\n",
    "    mask = np.random.choice(num_training, num_dev, replace=False)\n",
    "    X_dev = X_train[mask]\n",
    "    y_dev = y_train[mask]\n",
    "    \n",
    "    # Preprocessing: reshape the image data into rows\n",
    "    X_train = np.reshape(X_train, (X_train.shape[0], -1))\n",
    "    X_val = np.reshape(X_val, (X_val.shape[0], -1))\n",
    "    X_test = np.reshape(X_test, (X_test.shape[0], -1))\n",
    "    X_dev = np.reshape(X_dev, (X_dev.shape[0], -1))\n",
    "    \n",
    "    # Normalize the data: subtract the mean image\n",
    "    mean_image = np.mean(X_train, axis = 0)\n",
    "    std_image = np.std(X_train, axis = 0)\n",
    "    X_train -= mean_image\n",
    "    X_val -= mean_image\n",
    "    X_test -= mean_image\n",
    "    X_dev -= mean_image\n",
    "\n",
    "    X_train /= std_image\n",
    "    X_val /= std_image\n",
    "    X_test /= std_image\n",
    "    X_dev /= std_image\n",
    "    \n",
    "    # add bias dimension and transform into columns\n",
    "    X_train = np.hstack([X_train, np.ones((X_train.shape[0], 1))])\n",
    "    X_val = np.hstack([X_val, np.ones((X_val.shape[0], 1))])\n",
    "    X_test = np.hstack([X_test, np.ones((X_test.shape[0], 1))])\n",
    "    X_dev = np.hstack([X_dev, np.ones((X_dev.shape[0], 1))])\n",
    "    \n",
    "    return X_train, y_train, X_val, y_val, X_test, y_test, X_dev, y_dev\n",
    "\n",
    "\n",
    "# Invoke the above function to get our data.\n",
    "X_train, y_train, X_val, y_val, X_test, y_test, X_dev, y_dev = get_CIFAR10_data()\n",
    "print('Train data shape: ', X_train.shape)\n",
    "print('Train labels shape: ', y_train.shape)\n",
    "print('Validation data shape: ', X_val.shape)\n",
    "print('Validation labels shape: ', y_val.shape)\n",
    "print('Test data shape: ', X_test.shape)\n",
    "print('Test labels shape: ', y_test.shape)\n",
    "print('dev data shape: ', X_dev.shape)\n",
    "print('dev labels shape: ', y_dev.shape)"
   ]
  },
  {
   "cell_type": "markdown",
   "id": "2713b7f4",
   "metadata": {},
   "source": [
    "## Softmax Classifier\n",
    "\n",
    "Your code for this section will all be written inside `cs231n/classifiers/softmax.py`.\n"
   ]
  },
  {
   "cell_type": "code",
   "execution_count": 4,
   "id": "6168f67e",
   "metadata": {},
   "outputs": [
    {
     "name": "stdout",
     "output_type": "stream",
     "text": [
      "loss: 2.303024\n",
      "sanity check: 2.302585\n"
     ]
    }
   ],
   "source": [
    "# First implement the naive softmax loss function with nested loops.\n",
    "# Open the file cs231n/classifiers/softmax.py and implement the\n",
    "# softmax_loss_naive function.\n",
    "\n",
    "from cs231n.classifiers.softmax import softmax_loss_naive\n",
    "import time\n",
    "\n",
    "# Generate a random softmax weight matrix and use it to compute the loss.\n",
    "W = np.random.randn(3073, 10) * 0.0001\n",
    "loss, grad = softmax_loss_naive(W, X_dev, y_dev, 0.0)\n",
    "\n",
    "# As a rough sanity check, our loss should be something close to -log(0.1).\n",
    "print('loss: %f' % loss)\n",
    "print('sanity check: %f' % (-np.log(0.1)))"
   ]
  },
  {
   "cell_type": "markdown",
   "id": "b35bc604",
   "metadata": {
    "tags": [
     "pdf-inline"
    ]
   },
   "source": [
    "**Inline Question 1**\n",
    "\n",
    "Why do we expect our loss to be close to -log(0.1)? Explain briefly.**\n",
    "\n",
    "$\\color{blue}{\\textit Your Answer:}$ *Fill this in* \n",
    "\n"
   ]
  },
  {
   "cell_type": "code",
   "execution_count": 5,
   "id": "b7bef674",
   "metadata": {},
   "outputs": [
    {
     "name": "stdout",
     "output_type": "stream",
     "text": [
      "numerical: 0.030596 analytic: 0.030596, relative error: 2.313610e-10\n",
      "numerical: 0.011593 analytic: 0.011593, relative error: 7.443849e-11\n",
      "numerical: 0.000506 analytic: 0.000506, relative error: 7.952503e-10\n",
      "numerical: -0.003586 analytic: -0.003586, relative error: 9.391234e-10\n",
      "numerical: 0.006584 analytic: 0.006584, relative error: 1.425630e-09\n",
      "numerical: 0.019877 analytic: 0.019877, relative error: 9.327953e-10\n",
      "numerical: 0.015670 analytic: 0.015670, relative error: 5.228647e-11\n",
      "numerical: 0.021457 analytic: 0.021457, relative error: 7.302936e-10\n",
      "numerical: -0.016490 analytic: -0.016490, relative error: 5.273274e-10\n",
      "numerical: -0.021384 analytic: -0.021384, relative error: 3.640973e-10\n",
      "numerical: 0.023018 analytic: 0.023018, relative error: 6.800424e-10\n",
      "numerical: -0.042044 analytic: -0.042044, relative error: 1.279171e-10\n",
      "numerical: -0.033043 analytic: -0.033043, relative error: 3.192821e-10\n",
      "numerical: -0.037613 analytic: -0.037613, relative error: 2.715189e-10\n",
      "numerical: 0.002106 analytic: 0.002106, relative error: 4.570277e-09\n",
      "numerical: 0.009972 analytic: 0.009972, relative error: 4.944276e-10\n",
      "numerical: -0.047526 analytic: -0.047526, relative error: 6.453926e-11\n",
      "numerical: 0.004388 analytic: 0.004388, relative error: 2.217660e-09\n",
      "numerical: -0.035257 analytic: -0.035257, relative error: 3.190835e-10\n",
      "numerical: 0.040924 analytic: 0.040924, relative error: 2.549295e-11\n"
     ]
    }
   ],
   "source": [
    "# Complete the implementation of softmax_loss_naive and implement a (naive)\n",
    "# version of the gradient that uses nested loops.\n",
    "loss, grad = softmax_loss_naive(W, X_dev, y_dev, 0.0)\n",
    "\n",
    "# As we did for the SVM, use numeric gradient checking as a debugging tool.\n",
    "# The numeric gradient should be close to the analytic gradient.\n",
    "from cs231n.gradient_check import grad_check_sparse\n",
    "f = lambda w: softmax_loss_naive(w, X_dev, y_dev, 0.0)[0]\n",
    "grad_numerical = grad_check_sparse(f, W, grad, 10)\n",
    "\n",
    "# similar to SVM case, do another gradient check with regularization\n",
    "loss, grad = softmax_loss_naive(W, X_dev, y_dev, 5e1)\n",
    "f = lambda w: softmax_loss_naive(w, X_dev, y_dev, 5e1)[0]\n",
    "grad_numerical = grad_check_sparse(f, W, grad, 10)"
   ]
  },
  {
   "cell_type": "code",
   "execution_count": 6,
   "id": "3994f8a3",
   "metadata": {},
   "outputs": [
    {
     "name": "stdout",
     "output_type": "stream",
     "text": [
      "naive loss: 2.303024e+00 computed in 0.007739s\n",
      "vectorized loss: 2.303024e+00 computed in 0.004309s\n",
      "Loss difference: 0.000000\n",
      "Gradient difference: 0.000000\n"
     ]
    }
   ],
   "source": [
    "# Now that we have a naive implementation of the softmax loss function and its gradient,\n",
    "# implement a vectorized version in softmax_loss_vectorized.\n",
    "# The two versions should compute the same results, but the vectorized version should be\n",
    "# much faster.\n",
    "tic = time.time()\n",
    "loss_naive, grad_naive = softmax_loss_naive(W, X_dev, y_dev, 0.000005)\n",
    "toc = time.time()\n",
    "print('naive loss: %e computed in %fs' % (loss_naive, toc - tic))\n",
    "\n",
    "from cs231n.classifiers.softmax import softmax_loss_vectorized\n",
    "tic = time.time()\n",
    "loss_vectorized, grad_vectorized = softmax_loss_vectorized(W, X_dev, y_dev, 0.000005)\n",
    "toc = time.time()\n",
    "print('vectorized loss: %e computed in %fs' % (loss_vectorized, toc - tic))\n",
    "\n",
    "# As we did for the SVM, we use the Frobenius norm to compare the two versions\n",
    "# of the gradient.\n",
    "grad_difference = np.linalg.norm(grad_naive - grad_vectorized, ord='fro')\n",
    "print('Loss difference: %f' % np.abs(loss_naive - loss_vectorized))\n",
    "print('Gradient difference: %f' % grad_difference)"
   ]
  },
  {
   "cell_type": "code",
   "execution_count": 8,
   "id": "bd171311",
   "metadata": {
    "tags": [
     "code"
    ],
    "test": "tuning"
   },
   "outputs": [
    {
     "name": "stdout",
     "output_type": "stream",
     "text": [
      "lr 1.013082e-04 reg 4.673087e-05 train accuracy: 0.351388 val accuracy: 0.368000\n",
      "lr 1.078093e-04 reg 1.742990e-05 train accuracy: 0.353388 val accuracy: 0.368000\n",
      "lr 1.257917e-04 reg 1.680890e-04 train accuracy: 0.358510 val accuracy: 0.373000\n",
      "lr 1.346248e-04 reg 2.420280e-04 train accuracy: 0.361592 val accuracy: 0.377000\n",
      "lr 1.450877e-04 reg 1.507920e-04 train accuracy: 0.363939 val accuracy: 0.378000\n",
      "lr 1.488217e-04 reg 8.570620e-05 train accuracy: 0.361204 val accuracy: 0.371000\n",
      "lr 1.720790e-04 reg 1.359866e-05 train accuracy: 0.367388 val accuracy: 0.381000\n",
      "lr 1.832351e-04 reg 6.444569e-05 train accuracy: 0.368510 val accuracy: 0.382000\n",
      "lr 1.898518e-04 reg 1.819020e-04 train accuracy: 0.369061 val accuracy: 0.377000\n",
      "lr 1.922241e-04 reg 5.460903e-05 train accuracy: 0.370020 val accuracy: 0.384000\n",
      "lr 2.207621e-04 reg 4.388885e-05 train accuracy: 0.373939 val accuracy: 0.387000\n",
      "lr 2.294643e-04 reg 2.023822e-04 train accuracy: 0.376327 val accuracy: 0.386000\n",
      "lr 2.303588e-04 reg 3.138970e-05 train accuracy: 0.375224 val accuracy: 0.390000\n",
      "lr 2.353438e-04 reg 3.819971e-05 train accuracy: 0.375592 val accuracy: 0.388000\n",
      "lr 2.735866e-04 reg 3.494617e-04 train accuracy: 0.379776 val accuracy: 0.390000\n",
      "lr 3.098663e-04 reg 4.702841e-05 train accuracy: 0.382245 val accuracy: 0.399000\n",
      "lr 3.254544e-04 reg 2.689410e-04 train accuracy: 0.383857 val accuracy: 0.392000\n",
      "lr 3.357827e-04 reg 1.697059e-05 train accuracy: 0.385000 val accuracy: 0.393000\n",
      "lr 4.077386e-04 reg 5.761551e-05 train accuracy: 0.388714 val accuracy: 0.395000\n",
      "lr 4.296484e-04 reg 5.100299e-04 train accuracy: 0.389204 val accuracy: 0.404000\n",
      "lr 4.528188e-04 reg 1.485536e-05 train accuracy: 0.388408 val accuracy: 0.394000\n",
      "lr 5.656147e-04 reg 9.605507e-04 train accuracy: 0.394796 val accuracy: 0.407000\n",
      "lr 5.710120e-04 reg 1.227843e-04 train accuracy: 0.397469 val accuracy: 0.409000\n",
      "lr 6.595304e-04 reg 1.056879e-05 train accuracy: 0.396837 val accuracy: 0.402000\n",
      "lr 6.852305e-04 reg 6.353377e-05 train accuracy: 0.398265 val accuracy: 0.402000\n",
      "lr 8.025771e-04 reg 1.372251e-05 train accuracy: 0.400980 val accuracy: 0.404000\n",
      "lr 9.023605e-04 reg 8.214025e-04 train accuracy: 0.402490 val accuracy: 0.405000\n",
      "lr 1.042944e-03 reg 1.854036e-05 train accuracy: 0.406265 val accuracy: 0.409000\n",
      "lr 1.180721e-03 reg 7.596147e-05 train accuracy: 0.408878 val accuracy: 0.416000\n",
      "lr 1.270609e-03 reg 1.417237e-05 train accuracy: 0.410020 val accuracy: 0.412000\n",
      "lr 1.290253e-03 reg 5.358719e-04 train accuracy: 0.409837 val accuracy: 0.404000\n",
      "lr 1.332287e-03 reg 1.609583e-04 train accuracy: 0.408469 val accuracy: 0.404000\n",
      "lr 1.338486e-03 reg 9.787694e-04 train accuracy: 0.408490 val accuracy: 0.393000\n",
      "lr 1.431447e-03 reg 5.443166e-05 train accuracy: 0.412102 val accuracy: 0.397000\n",
      "lr 1.462209e-03 reg 6.470722e-05 train accuracy: 0.411898 val accuracy: 0.412000\n",
      "lr 1.711056e-03 reg 5.760468e-05 train accuracy: 0.416204 val accuracy: 0.415000\n",
      "lr 1.727328e-03 reg 1.055284e-04 train accuracy: 0.416714 val accuracy: 0.404000\n",
      "lr 2.000676e-03 reg 4.187996e-04 train accuracy: 0.416367 val accuracy: 0.417000\n",
      "lr 2.087368e-03 reg 2.924534e-05 train accuracy: 0.417122 val accuracy: 0.418000\n",
      "lr 3.486636e-03 reg 6.002346e-04 train accuracy: 0.420694 val accuracy: 0.401000\n",
      "lr 3.629837e-03 reg 6.274543e-04 train accuracy: 0.421429 val accuracy: 0.405000\n",
      "lr 3.959931e-03 reg 3.263371e-05 train accuracy: 0.424122 val accuracy: 0.425000\n",
      "lr 6.602856e-03 reg 3.475032e-04 train accuracy: 0.429469 val accuracy: 0.401000\n",
      "lr 7.203920e-03 reg 5.164593e-05 train accuracy: 0.430633 val accuracy: 0.412000\n",
      "lr 8.329189e-03 reg 1.763231e-04 train accuracy: 0.425163 val accuracy: 0.407000\n",
      "lr 8.388437e-03 reg 6.335485e-05 train accuracy: 0.431367 val accuracy: 0.412000\n",
      "lr 8.523277e-03 reg 2.083290e-04 train accuracy: 0.426490 val accuracy: 0.408000\n",
      "lr 9.338514e-03 reg 6.723258e-04 train accuracy: 0.426857 val accuracy: 0.421000\n",
      "lr 9.689416e-03 reg 5.780465e-05 train accuracy: 0.426837 val accuracy: 0.394000\n",
      "lr 9.856636e-03 reg 1.905656e-04 train accuracy: 0.421857 val accuracy: 0.379000\n",
      "best validation accuracy achieved during cross-validation: 0.425000\n"
     ]
    }
   ],
   "source": [
    "# Use the validation set to tune hyperparameters (regularization strength and\n",
    "# learning rate). You should experiment with different ranges for the learning\n",
    "# rates and regularization strengths; if you are careful you should be able to\n",
    "# get a classification accuracy of over 0.35 on the validation set.\n",
    "\n",
    "from cs231n.classifiers import Softmax\n",
    "results = {}\n",
    "best_val = -1\n",
    "best_softmax = None\n",
    "\n",
    "################################################################################\n",
    "# TODO:                                                                        #\n",
    "# Use the validation set to set the learning rate and regularization strength. #\n",
    "# This should be identical to the validation that you did for the SVM; save    #\n",
    "# the best trained softmax classifer in best_softmax.                          #\n",
    "################################################################################\n",
    "\n",
    "# Provided as a reference. You may or may not want to change these hyperparameters\n",
    "#learning_rates = [1e-7, 5e-7]\n",
    "#regularization_strengths = [2.5e4, 5e4]\n",
    "\n",
    "learning_rates = 10 ** -(np.random.rand(50) * 2 + 2)  # [1e-4, 1e-2]\n",
    "regularization_strengths = 10 ** -(np.random.rand(50) * 2 + 3)  # [1e-3, 1e-5]  \n",
    "\n",
    "# *****START OF YOUR CODE (DO NOT DELETE/MODIFY THIS LINE)*****\n",
    "\n",
    "for lr, reg in zip(learning_rates, regularization_strengths):\n",
    "    softmax_model = Softmax()\n",
    "    softmax_model.train(X_train, y_train, learning_rate=lr, reg=reg, num_iters=1500)\n",
    "    y_train_pred, y_val_pred = softmax_model.predict(X_train), softmax_model.predict(X_val)\n",
    "    train_acc, val_acc = np.mean(y_train == y_train_pred), np.mean(y_val == y_val_pred)\n",
    "    results[lr, reg] = train_acc, val_acc\n",
    "    if val_acc > best_val:\n",
    "        best_val = val_acc\n",
    "        best_softmax = softmax_model\n",
    "\n",
    "# *****END OF YOUR CODE (DO NOT DELETE/MODIFY THIS LINE)*****\n",
    "    \n",
    "# Print out results.\n",
    "for lr, reg in sorted(results):\n",
    "    train_accuracy, val_accuracy = results[(lr, reg)]\n",
    "    print('lr %e reg %e train accuracy: %f val accuracy: %f' % (\n",
    "                lr, reg, train_accuracy, val_accuracy))\n",
    "    \n",
    "print('best validation accuracy achieved during cross-validation: %f' % best_val)"
   ]
  },
  {
   "cell_type": "code",
   "execution_count": 9,
   "id": "f94a8f12",
   "metadata": {
    "test": "test"
   },
   "outputs": [
    {
     "name": "stdout",
     "output_type": "stream",
     "text": [
      "softmax on raw pixels final test set accuracy: 0.394000\n"
     ]
    }
   ],
   "source": [
    "# evaluate on test set\n",
    "# Evaluate the best softmax on test set\n",
    "y_test_pred = best_softmax.predict(X_test)\n",
    "test_accuracy = np.mean(y_test == y_test_pred)\n",
    "print('softmax on raw pixels final test set accuracy: %f' % (test_accuracy, ))"
   ]
  },
  {
   "cell_type": "markdown",
   "id": "7e2112ee",
   "metadata": {
    "tags": [
     "pdf-inline"
    ]
   },
   "source": [
    "**Inline Question 2** - *True or False*\n",
    "\n",
    "Suppose the overall training loss is defined as the sum of the per-datapoint loss over all training examples. It is possible to add a new datapoint to a training set that would leave the SVM loss unchanged, but this is not the case with the Softmax classifier loss.\n",
    "\n",
    "$\\color{blue}{\\textit Your Answer:}$ yes\n",
    "\n",
    "\n",
    "$\\color{blue}{\\textit Your Explanation:}$\n",
    "\n"
   ]
  },
  {
   "cell_type": "code",
   "execution_count": 10,
   "id": "86d86120",
   "metadata": {},
   "outputs": [
    {
     "data": {
      "image/png": "[encoded data removed]",
      "text/plain": [
       "<Figure size 1000x800 with 10 Axes>"
      ]
     },
     "metadata": {},
     "output_type": "display_data"
    }
   ],
   "source": [
    "# Visualize the learned weights for each class\n",
    "w = best_softmax.W[:-1,:] # strip out the bias\n",
    "w = w.reshape(32, 32, 3, 10)\n",
    "\n",
    "w_min, w_max = np.min(w), np.max(w)\n",
    "\n",
    "classes = ['plane', 'car', 'bird', 'cat', 'deer', 'dog', 'frog', 'horse', 'ship', 'truck']\n",
    "for i in range(10):\n",
    "    plt.subplot(2, 5, i + 1)\n",
    "    \n",
    "    # Rescale the weights to be between 0 and 255\n",
    "    wimg = 255.0 * (w[:, :, :, i].squeeze() - w_min) / (w_max - w_min)\n",
    "    plt.imshow(wimg.astype('uint8'))\n",
    "    plt.axis('off')\n",
    "    plt.title(classes[i])"
   ]
  },
  {
   "cell_type": "code",
   "execution_count": null,
   "id": "24688f99",
   "metadata": {},
   "outputs": [],
   "source": []
  }
 ],
 "metadata": {
  "kernelspec": {
   "display_name": "Python 3 (ipykernel)",
   "language": "python",
   "name": "python3"
  },
  "language_info": {
   "codemirror_mode": {
    "name": "ipython",
    "version": 3
   },
   "file_extension": ".py",
   "mimetype": "text/x-python",
   "name": "python",
   "nbconvert_exporter": "python",
   "pygments_lexer": "ipython3",
   "version": "3.11.9"
  }
 },
 "nbformat": 4,
 "nbformat_minor": 5
}
